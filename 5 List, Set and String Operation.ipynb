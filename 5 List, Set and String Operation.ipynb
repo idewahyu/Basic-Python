{
  "nbformat": 4,
  "nbformat_minor": 0,
  "metadata": {
    "colab": {
      "name": "Operasi pada list, set, dan string 2.ipynb",
      "provenance": [],
      "collapsed_sections": []
    },
    "kernelspec": {
      "name": "python3",
      "display_name": "Python 3"
    },
    "language_info": {
      "name": "python"
    }
  },
  "cells": [
    {
      "cell_type": "markdown",
      "source": [
        "#len()"
      ],
      "metadata": {
        "id": "fp3k5lib1jJL"
      }
    },
    {
      "cell_type": "markdown",
      "source": [
        "\n",
        "*   len will count the length or number of elements from the list (for strings to count the number of characters)\n",
        "\n"
      ],
      "metadata": {
        "id": "H7_a6FXfc42Y"
      }
    },
    {
      "cell_type": "code",
      "source": [
        "num_list = [4,3,5,5,7,7,7]"
      ],
      "metadata": {
        "id": "bt8edWAe1qw6"
      },
      "execution_count": 13,
      "outputs": []
    },
    {
      "cell_type": "code",
      "source": [
        "print (num_list)"
      ],
      "metadata": {
        "colab": {
          "base_uri": "https://localhost:8080/"
        },
        "id": "R3HRTJF71wGo",
        "outputId": "cbb2361a-2f4a-4c16-f6fb-7a09cb2dc8c2"
      },
      "execution_count": 14,
      "outputs": [
        {
          "output_type": "stream",
          "name": "stdout",
          "text": [
            "[4, 3, 5, 5, 7, 7, 7]\n"
          ]
        }
      ]
    },
    {
      "cell_type": "code",
      "source": [
        "len(num_list)"
      ],
      "metadata": {
        "colab": {
          "base_uri": "https://localhost:8080/"
        },
        "id": "caNhnkrc1zRE",
        "outputId": "0066ab22-cb34-499a-e28b-1eee6442ac50"
      },
      "execution_count": 15,
      "outputs": [
        {
          "output_type": "execute_result",
          "data": {
            "text/plain": [
              "7"
            ]
          },
          "metadata": {},
          "execution_count": 15
        }
      ]
    },
    {
      "cell_type": "code",
      "source": [
        "num_set = {3,5,5,7,7,7}"
      ],
      "metadata": {
        "id": "Pq8a4C6t11qu"
      },
      "execution_count": 16,
      "outputs": []
    },
    {
      "cell_type": "code",
      "source": [
        "print (num_set)"
      ],
      "metadata": {
        "colab": {
          "base_uri": "https://localhost:8080/"
        },
        "id": "6vdczE2g19NG",
        "outputId": "6a7ecf0d-75e6-412d-81d8-75f72598b338"
      },
      "execution_count": 17,
      "outputs": [
        {
          "output_type": "stream",
          "name": "stdout",
          "text": [
            "{3, 5, 7}\n"
          ]
        }
      ]
    },
    {
      "cell_type": "code",
      "source": [
        "len (num_set)"
      ],
      "metadata": {
        "colab": {
          "base_uri": "https://localhost:8080/"
        },
        "id": "o3ZwOtoG1_JH",
        "outputId": "a78317c4-faf6-4427-ad3f-9ed50a866a42"
      },
      "execution_count": 18,
      "outputs": [
        {
          "output_type": "execute_result",
          "data": {
            "text/plain": [
              "3"
            ]
          },
          "metadata": {},
          "execution_count": 18
        }
      ]
    },
    {
      "cell_type": "markdown",
      "source": [
        "len in the list and set shows a difference. shown from the len in the list that counts the entire inputted data, while the set shows len which only counts the unique ones."
      ],
      "metadata": {
        "id": "KUDhBkPpeTgT"
      }
    },
    {
      "cell_type": "code",
      "source": [
        "string = \"Data Science\""
      ],
      "metadata": {
        "id": "G1JSwXDH2CeU"
      },
      "execution_count": 10,
      "outputs": []
    },
    {
      "cell_type": "code",
      "source": [
        "print (string)"
      ],
      "metadata": {
        "colab": {
          "base_uri": "https://localhost:8080/"
        },
        "id": "q4Pb4cfF2HRl",
        "outputId": "1bf31473-e0f3-4fc2-e5c6-d56d2e1c41ea"
      },
      "execution_count": 11,
      "outputs": [
        {
          "output_type": "stream",
          "name": "stdout",
          "text": [
            "Data Science\n"
          ]
        }
      ]
    },
    {
      "cell_type": "code",
      "source": [
        "len (string)"
      ],
      "metadata": {
        "colab": {
          "base_uri": "https://localhost:8080/"
        },
        "id": "GrKWBgS72JaW",
        "outputId": "dfd793db-f759-4bfe-9ea6-743e97eceed2"
      },
      "execution_count": 12,
      "outputs": [
        {
          "output_type": "execute_result",
          "data": {
            "text/plain": [
              "12"
            ]
          },
          "metadata": {},
          "execution_count": 12
        }
      ]
    },
    {
      "cell_type": "markdown",
      "source": [
        "len in the string will also count the number of spaces in it"
      ],
      "metadata": {
        "id": "2jBWldzcgoz-"
      }
    },
    {
      "cell_type": "markdown",
      "source": [
        "#min() and max()"
      ],
      "metadata": {
        "id": "5CKhgEYHgypw"
      }
    },
    {
      "cell_type": "markdown",
      "source": [
        "min() and max() to find out the min and max values ​​of a list"
      ],
      "metadata": {
        "id": "hZj-7YZv5x3G"
      }
    },
    {
      "cell_type": "code",
      "source": [
        "values = [10,3,4,4,7,7,7,0]"
      ],
      "metadata": {
        "id": "ujD9kEoq5306"
      },
      "execution_count": 20,
      "outputs": []
    },
    {
      "cell_type": "code",
      "source": [
        "min (values)"
      ],
      "metadata": {
        "colab": {
          "base_uri": "https://localhost:8080/"
        },
        "id": "j6AJPEFE5_KF",
        "outputId": "80f75453-336d-4deb-ca3f-985835b8c794"
      },
      "execution_count": 21,
      "outputs": [
        {
          "output_type": "execute_result",
          "data": {
            "text/plain": [
              "0"
            ]
          },
          "metadata": {},
          "execution_count": 21
        }
      ]
    },
    {
      "cell_type": "code",
      "source": [
        "max (values)"
      ],
      "metadata": {
        "colab": {
          "base_uri": "https://localhost:8080/"
        },
        "id": "yU-F-9zf6BV-",
        "outputId": "54f99932-f423-4ce8-c01d-2cb7c5a3f020"
      },
      "execution_count": 22,
      "outputs": [
        {
          "output_type": "execute_result",
          "data": {
            "text/plain": [
              "10"
            ]
          },
          "metadata": {},
          "execution_count": 22
        }
      ]
    },
    {
      "cell_type": "markdown",
      "source": [
        "#count ()\n"
      ],
      "metadata": {
        "id": "-DScfmC9h9pq"
      }
    },
    {
      "cell_type": "markdown",
      "source": [
        "count()\n",
        "knowing how many times an object appears in the list"
      ],
      "metadata": {
        "id": "OyIYS1-d6EMd"
      }
    },
    {
      "cell_type": "code",
      "source": [
        "bali = [3,4,4,7,7,7]"
      ],
      "metadata": {
        "id": "loRL4CPU6Ka2"
      },
      "execution_count": 23,
      "outputs": []
    },
    {
      "cell_type": "code",
      "source": [
        "bali.count (4)"
      ],
      "metadata": {
        "colab": {
          "base_uri": "https://localhost:8080/"
        },
        "id": "PGB2mJF46NoA",
        "outputId": "bee23c5d-0543-4cf5-8f96-46cd636248c8"
      },
      "execution_count": 24,
      "outputs": [
        {
          "output_type": "execute_result",
          "data": {
            "text/plain": [
              "2"
            ]
          },
          "metadata": {},
          "execution_count": 24
        }
      ]
    },
    {
      "cell_type": "code",
      "source": [
        "work = \"Data Science\""
      ],
      "metadata": {
        "id": "cGiklTjp6Rdc"
      },
      "execution_count": 25,
      "outputs": []
    },
    {
      "cell_type": "code",
      "source": [
        "work.count (\"a\")"
      ],
      "metadata": {
        "colab": {
          "base_uri": "https://localhost:8080/"
        },
        "id": "bnMFFCKi6U8M",
        "outputId": "970353e9-5690-4fce-a272-3b0ec55d6288"
      },
      "execution_count": 26,
      "outputs": [
        {
          "output_type": "execute_result",
          "data": {
            "text/plain": [
              "2"
            ]
          },
          "metadata": {},
          "execution_count": 26
        }
      ]
    },
    {
      "cell_type": "markdown",
      "source": [
        "in brackets contains the value called to find the count"
      ],
      "metadata": {
        "id": "-tS4m_jsivRq"
      }
    },
    {
      "cell_type": "markdown",
      "source": [
        "#merging and replication"
      ],
      "metadata": {
        "id": "UL0wst46i5Nk"
      }
    },
    {
      "cell_type": "markdown",
      "source": [
        "\n",
        "merging use (+) and replication use (*)"
      ],
      "metadata": {
        "id": "Y6Nj7s586b9r"
      }
    },
    {
      "cell_type": "code",
      "source": [
        "terong = [3,4,4,7,7,7]"
      ],
      "metadata": {
        "id": "Opz_15ZD6kTw"
      },
      "execution_count": 28,
      "outputs": []
    },
    {
      "cell_type": "code",
      "source": [
        "balado = [\"d\",\"a\",\"t\",\"a\"]"
      ],
      "metadata": {
        "id": "zrfnNZyp6r69"
      },
      "execution_count": 29,
      "outputs": []
    },
    {
      "cell_type": "code",
      "source": [
        "terong + balado"
      ],
      "metadata": {
        "colab": {
          "base_uri": "https://localhost:8080/"
        },
        "id": "jYZyKni56vFt",
        "outputId": "f57fff07-689d-4369-9359-c56fd8c5e95a"
      },
      "execution_count": 30,
      "outputs": [
        {
          "output_type": "execute_result",
          "data": {
            "text/plain": [
              "[3, 4, 4, 7, 7, 7, 'd', 'a', 't', 'a']"
            ]
          },
          "metadata": {},
          "execution_count": 30
        }
      ]
    },
    {
      "cell_type": "markdown",
      "source": [
        "the use of the plus sign will combine the values ​​contained in these variables"
      ],
      "metadata": {
        "id": "5dFV1pBVjQQs"
      }
    },
    {
      "cell_type": "code",
      "source": [
        "balado*2"
      ],
      "metadata": {
        "colab": {
          "base_uri": "https://localhost:8080/"
        },
        "id": "XsO2VdpO67Qh",
        "outputId": "27af94a5-971e-4382-bf78-70c36929a3c7"
      },
      "execution_count": 31,
      "outputs": [
        {
          "output_type": "execute_result",
          "data": {
            "text/plain": [
              "['d', 'a', 't', 'a', 'd', 'a', 't', 'a']"
            ]
          },
          "metadata": {},
          "execution_count": 31
        }
      ]
    },
    {
      "cell_type": "markdown",
      "source": [
        "the use of the sign (*) will replicate the value contained in the variable"
      ],
      "metadata": {
        "id": "Xyuq4JVxjvft"
      }
    },
    {
      "cell_type": "markdown",
      "source": [
        "(*) function can also used to initialize a list"
      ],
      "metadata": {
        "id": "oiEFvoNS6_r4"
      }
    },
    {
      "cell_type": "code",
      "source": [
        "kita = [3]*3"
      ],
      "metadata": {
        "id": "k0_ck_3X7Euh"
      },
      "execution_count": 32,
      "outputs": []
    },
    {
      "cell_type": "code",
      "source": [
        "print(kita)"
      ],
      "metadata": {
        "colab": {
          "base_uri": "https://localhost:8080/"
        },
        "id": "0qzDN_YJ7Iwa",
        "outputId": "ea209d2f-c611-4c01-c18e-a00ce0b6e4ae"
      },
      "execution_count": 33,
      "outputs": [
        {
          "output_type": "stream",
          "name": "stdout",
          "text": [
            "[3, 3, 3]\n"
          ]
        }
      ]
    },
    {
      "cell_type": "code",
      "source": [
        "len (tiga)"
      ],
      "metadata": {
        "colab": {
          "base_uri": "https://localhost:8080/"
        },
        "id": "t7Bfxt-O7LML",
        "outputId": "576dcf46-213b-47ef-a3af-bf2ab0c7dd5f"
      },
      "execution_count": null,
      "outputs": [
        {
          "output_type": "execute_result",
          "data": {
            "text/plain": [
              "3"
            ]
          },
          "metadata": {},
          "execution_count": 36
        }
      ]
    },
    {
      "cell_type": "markdown",
      "source": [
        "#range"
      ],
      "metadata": {
        "id": "Z7GvTdSYkoz7"
      }
    },
    {
      "cell_type": "markdown",
      "source": [
        "*   function returns a series with a certain pattern to do repetition\n",
        "*   to perform iterative (ex for) access to list elements, you can use the range() function in python\n",
        "*   More detail about loop operations will be discussed in the loop and loop control module\n",
        "\n",
        "range function can have 1-3 parameters\n",
        "range with 1 parameter n: create a series of numbers starting from 0, as many as n numbers\n",
        "\n",
        "\n",
        "\n",
        "\n"
      ],
      "metadata": {
        "id": "uD3iMDx3_UCj"
      }
    },
    {
      "cell_type": "code",
      "source": [
        "for i in range (3):\n",
        "    print (i)"
      ],
      "metadata": {
        "colab": {
          "base_uri": "https://localhost:8080/"
        },
        "id": "tKxmSYQk_3zU",
        "outputId": "e3db7e95-1d81-48f0-926e-17af9a247098"
      },
      "execution_count": null,
      "outputs": [
        {
          "output_type": "stream",
          "name": "stdout",
          "text": [
            "0\n",
            "1\n",
            "2\n"
          ]
        }
      ]
    },
    {
      "cell_type": "markdown",
      "source": [
        "*   range with parameters n,p: create a series of numbers starting from n, until before p (number p does not follow)\n",
        "\n",
        "*   often referred to as inclusive n (series starting with number n) and exclusive p (series not including numbers p)"
      ],
      "metadata": {
        "id": "snBW8qN4A4zx"
      }
    },
    {
      "cell_type": "code",
      "source": [
        "for i in range (2,7):\n",
        "    print (i)"
      ],
      "metadata": {
        "colab": {
          "base_uri": "https://localhost:8080/"
        },
        "id": "ZaS3SttdBP_J",
        "outputId": "eccebdfd-7539-4366-b8e0-0c8e7cc1cc70"
      },
      "execution_count": null,
      "outputs": [
        {
          "output_type": "stream",
          "name": "stdout",
          "text": [
            "2\n",
            "3\n",
            "4\n",
            "5\n",
            "6\n"
          ]
        }
      ]
    },
    {
      "cell_type": "markdown",
      "source": [
        "range with parameters n, p, q: create a series of numbers starting from n, until before p (numbers do not follow) with each element having a difference of q"
      ],
      "metadata": {
        "id": "0_5FSs1AB7WR"
      }
    },
    {
      "cell_type": "code",
      "source": [
        "for i in range (0,10):\n",
        "    print (i)"
      ],
      "metadata": {
        "colab": {
          "base_uri": "https://localhost:8080/"
        },
        "id": "NY-msijACVAc",
        "outputId": "2e3dc874-bf81-499a-809c-353bae815db2"
      },
      "execution_count": null,
      "outputs": [
        {
          "output_type": "stream",
          "name": "stdout",
          "text": [
            "0\n",
            "1\n",
            "2\n",
            "3\n",
            "4\n",
            "5\n",
            "6\n",
            "7\n",
            "8\n",
            "9\n"
          ]
        }
      ]
    },
    {
      "cell_type": "code",
      "source": [
        "for i in range (2,8):\n",
        "    print (i)"
      ],
      "metadata": {
        "colab": {
          "base_uri": "https://localhost:8080/"
        },
        "id": "6cuxyrWiCwcj",
        "outputId": "c80dc3c8-794d-4ea8-c7c5-d56b6b67b171"
      },
      "execution_count": null,
      "outputs": [
        {
          "output_type": "stream",
          "name": "stdout",
          "text": [
            "2\n",
            "3\n",
            "4\n",
            "5\n",
            "6\n",
            "7\n"
          ]
        }
      ]
    },
    {
      "cell_type": "code",
      "source": [
        "for i in range (3,12,3):\n",
        "    print (i)"
      ],
      "metadata": {
        "colab": {
          "base_uri": "https://localhost:8080/"
        },
        "id": "aHK19gwxC4f2",
        "outputId": "8d941144-cde2-442b-8ee6-ae7374c90b6f"
      },
      "execution_count": null,
      "outputs": [
        {
          "output_type": "stream",
          "name": "stdout",
          "text": [
            "3\n",
            "6\n",
            "9\n"
          ]
        }
      ]
    },
    {
      "cell_type": "markdown",
      "source": [
        "the number that is in the third position has the definition to pass\n",
        "\n",
        "so from the example above the number 3 shows the number is skipped by 3"
      ],
      "metadata": {
        "id": "YlKXABbRpw7D"
      }
    },
    {
      "cell_type": "markdown",
      "source": [
        "#in and not in"
      ],
      "metadata": {
        "id": "J09lL2nap038"
      }
    },
    {
      "cell_type": "markdown",
      "source": [
        "to find out a value or object is in the list\n",
        "this function will return a boolean value true or false"
      ],
      "metadata": {
        "id": "1f-J8yiTE7um"
      }
    },
    {
      "cell_type": "code",
      "source": [
        "kita = \"aku dan kamu\""
      ],
      "metadata": {
        "id": "maflisYrFLb2"
      },
      "execution_count": null,
      "outputs": []
    },
    {
      "cell_type": "code",
      "source": [
        "\"aku\" in kita"
      ],
      "metadata": {
        "colab": {
          "base_uri": "https://localhost:8080/"
        },
        "id": "ALsJoyKXFN7_",
        "outputId": "7e42f2e2-413d-476c-a78b-31a9ffb9a366"
      },
      "execution_count": null,
      "outputs": [
        {
          "output_type": "execute_result",
          "data": {
            "text/plain": [
              "True"
            ]
          },
          "metadata": {},
          "execution_count": 58
        }
      ]
    },
    {
      "cell_type": "code",
      "source": [
        "\"dia\" in kita"
      ],
      "metadata": {
        "colab": {
          "base_uri": "https://localhost:8080/"
        },
        "id": "Lu6qmkTRFUU5",
        "outputId": "1380c0fb-f953-47eb-8240-ca1c53bceb6a"
      },
      "execution_count": null,
      "outputs": [
        {
          "output_type": "execute_result",
          "data": {
            "text/plain": [
              "False"
            ]
          },
          "metadata": {},
          "execution_count": 59
        }
      ]
    },
    {
      "cell_type": "code",
      "source": [
        "\"dia\" not in kita"
      ],
      "metadata": {
        "colab": {
          "base_uri": "https://localhost:8080/"
        },
        "id": "5Ru_-CdwFZER",
        "outputId": "ed193ba9-c83b-45b4-a00d-511831fbca14"
      },
      "execution_count": null,
      "outputs": [
        {
          "output_type": "execute_result",
          "data": {
            "text/plain": [
              "True"
            ]
          },
          "metadata": {},
          "execution_count": 60
        }
      ]
    },
    {
      "cell_type": "code",
      "source": [
        "bahagia = \"selalu tersenyum\""
      ],
      "metadata": {
        "id": "eJ5WWwUYFbQc"
      },
      "execution_count": null,
      "outputs": []
    },
    {
      "cell_type": "code",
      "source": [
        "\"tersenyum\" in bahagia"
      ],
      "metadata": {
        "colab": {
          "base_uri": "https://localhost:8080/"
        },
        "id": "xHk0O_goFia3",
        "outputId": "240a67d3-c79c-47e8-9ca1-ff7945d1cf94"
      },
      "execution_count": null,
      "outputs": [
        {
          "output_type": "execute_result",
          "data": {
            "text/plain": [
              "True"
            ]
          },
          "metadata": {},
          "execution_count": 62
        }
      ]
    },
    {
      "cell_type": "code",
      "source": [
        "\"tersenyum\" not in bahagia"
      ],
      "metadata": {
        "colab": {
          "base_uri": "https://localhost:8080/"
        },
        "id": "DHaBBGDYFpAL",
        "outputId": "50532e9b-4eb1-45c0-acd4-5d371383ffff"
      },
      "execution_count": null,
      "outputs": [
        {
          "output_type": "execute_result",
          "data": {
            "text/plain": [
              "False"
            ]
          },
          "metadata": {},
          "execution_count": 63
        }
      ]
    },
    {
      "cell_type": "markdown",
      "source": [
        "#assign values ​​to multiple variables"
      ],
      "metadata": {
        "id": "mAGXV4fFrd-j"
      }
    },
    {
      "cell_type": "markdown",
      "source": [
        "sometimes have variables and need to assign values ​​to those variables.\n",
        "conventionally, you can mark variables; with the values, ​​you want one by one"
      ],
      "metadata": {
        "id": "2fPuWKWxzu-Q"
      }
    },
    {
      "cell_type": "code",
      "source": [
        "agenda = [\"belajar\", \"belajar data science\", \"mengenai materi python\"]"
      ],
      "metadata": {
        "id": "Dsx4cus41B_V"
      },
      "execution_count": 34,
      "outputs": []
    },
    {
      "cell_type": "code",
      "source": [
        "agenda [0]"
      ],
      "metadata": {
        "colab": {
          "base_uri": "https://localhost:8080/",
          "height": 35
        },
        "id": "lXTShdku2RlZ",
        "outputId": "fb57ee2c-5a1b-4ea1-bb17-7df47883f346"
      },
      "execution_count": null,
      "outputs": [
        {
          "output_type": "execute_result",
          "data": {
            "text/plain": [
              "'belajar'"
            ],
            "application/vnd.google.colaboratory.intrinsic+json": {
              "type": "string"
            }
          },
          "metadata": {},
          "execution_count": 14
        }
      ]
    },
    {
      "cell_type": "code",
      "source": [
        "agenda_apa = agenda [0]"
      ],
      "metadata": {
        "id": "zKLzUFU72bmy"
      },
      "execution_count": null,
      "outputs": []
    },
    {
      "cell_type": "code",
      "source": [
        "print (agenda_apa)"
      ],
      "metadata": {
        "colab": {
          "base_uri": "https://localhost:8080/"
        },
        "id": "jHfzCS8T2mpQ",
        "outputId": "f63a50f9-ceeb-461d-9b56-e8c95bc47fa6"
      },
      "execution_count": null,
      "outputs": [
        {
          "output_type": "stream",
          "name": "stdout",
          "text": [
            "belajar\n"
          ]
        }
      ]
    },
    {
      "cell_type": "code",
      "source": [
        "agenda [1]"
      ],
      "metadata": {
        "colab": {
          "base_uri": "https://localhost:8080/",
          "height": 35
        },
        "id": "qUEkNbw12Vi-",
        "outputId": "712550a7-d2c3-4455-dc31-4a31ee09d641"
      },
      "execution_count": null,
      "outputs": [
        {
          "output_type": "execute_result",
          "data": {
            "text/plain": [
              "'belajar data science'"
            ],
            "application/vnd.google.colaboratory.intrinsic+json": {
              "type": "string"
            }
          },
          "metadata": {},
          "execution_count": 15
        }
      ]
    },
    {
      "cell_type": "code",
      "source": [
        "belajar_apa = agenda [1]"
      ],
      "metadata": {
        "id": "rYYQQU5o2tIf"
      },
      "execution_count": null,
      "outputs": []
    },
    {
      "cell_type": "code",
      "source": [
        "print (belajar_apa)"
      ],
      "metadata": {
        "colab": {
          "base_uri": "https://localhost:8080/"
        },
        "id": "Una1PBFL24kk",
        "outputId": "11e31732-36d9-4494-ed60-c1078d5e9718"
      },
      "execution_count": null,
      "outputs": [
        {
          "output_type": "stream",
          "name": "stdout",
          "text": [
            "belajar data science\n"
          ]
        }
      ]
    },
    {
      "cell_type": "code",
      "source": [
        "agenda [2]"
      ],
      "metadata": {
        "colab": {
          "base_uri": "https://localhost:8080/",
          "height": 35
        },
        "id": "B0p7NuYD2XfE",
        "outputId": "b74c994e-18c9-4dcd-cf34-04d8e7fad2ab"
      },
      "execution_count": 35,
      "outputs": [
        {
          "output_type": "execute_result",
          "data": {
            "text/plain": [
              "'mengenai materi python'"
            ],
            "application/vnd.google.colaboratory.intrinsic+json": {
              "type": "string"
            }
          },
          "metadata": {},
          "execution_count": 35
        }
      ]
    },
    {
      "cell_type": "code",
      "source": [
        "materi_apa = agenda [2]"
      ],
      "metadata": {
        "id": "ai7k4GF83C70"
      },
      "execution_count": 38,
      "outputs": []
    },
    {
      "cell_type": "code",
      "source": [
        "print (materi_apa)"
      ],
      "metadata": {
        "colab": {
          "base_uri": "https://localhost:8080/"
        },
        "id": "Ax08GDx33J9W",
        "outputId": "8a02d486-5f4c-4e1f-bfdf-5c88d93afa59"
      },
      "execution_count": 39,
      "outputs": [
        {
          "output_type": "stream",
          "name": "stdout",
          "text": [
            "mengenai materi python\n"
          ]
        }
      ]
    },
    {
      "cell_type": "markdown",
      "source": [
        "* python has a more practical way\n",
        "* We can assign values ​​to multiple variables at once from list/tuple elements without needing to mark them one by one"
      ],
      "metadata": {
        "id": "cEM1npAE3i94"
      }
    },
    {
      "cell_type": "code",
      "source": [
        "minuman = (\"jus\", \"jus mangga\", \"manis\")"
      ],
      "metadata": {
        "id": "mTKE9uLC4OVZ"
      },
      "execution_count": null,
      "outputs": []
    },
    {
      "cell_type": "code",
      "source": [
        "nama, jenis_minuman, rasa = minuman"
      ],
      "metadata": {
        "id": "Qj_K0RnM4UCz"
      },
      "execution_count": null,
      "outputs": []
    },
    {
      "cell_type": "code",
      "source": [
        "nama"
      ],
      "metadata": {
        "colab": {
          "base_uri": "https://localhost:8080/",
          "height": 35
        },
        "id": "FWXRWVH14Yld",
        "outputId": "196f66e7-10b2-4111-80e7-09c1baea95f8"
      },
      "execution_count": null,
      "outputs": [
        {
          "output_type": "execute_result",
          "data": {
            "text/plain": [
              "'jus'"
            ],
            "application/vnd.google.colaboratory.intrinsic+json": {
              "type": "string"
            }
          },
          "metadata": {},
          "execution_count": 28
        }
      ]
    },
    {
      "cell_type": "code",
      "source": [
        "print (jenis_minuman)"
      ],
      "metadata": {
        "colab": {
          "base_uri": "https://localhost:8080/"
        },
        "id": "mm-8VhVS4cto",
        "outputId": "22983fda-e3f3-4580-ced2-f06e20abc1e3"
      },
      "execution_count": null,
      "outputs": [
        {
          "output_type": "stream",
          "name": "stdout",
          "text": [
            "jus mangga\n"
          ]
        }
      ]
    },
    {
      "cell_type": "code",
      "source": [
        "rasa"
      ],
      "metadata": {
        "colab": {
          "base_uri": "https://localhost:8080/",
          "height": 35
        },
        "id": "wYx4JYNO4gyK",
        "outputId": "7019132e-ba8d-4321-f3b3-c5c6f83009ba"
      },
      "execution_count": null,
      "outputs": [
        {
          "output_type": "execute_result",
          "data": {
            "text/plain": [
              "'manis'"
            ],
            "application/vnd.google.colaboratory.intrinsic+json": {
              "type": "string"
            }
          },
          "metadata": {},
          "execution_count": 30
        }
      ]
    },
    {
      "cell_type": "markdown",
      "source": [
        "the use of an assignment to multi-variables can be used to swap the values ​​of two or more variable"
      ],
      "metadata": {
        "id": "suT5g2KF6_IZ"
      }
    },
    {
      "cell_type": "code",
      "source": [
        "wajah, sifat = \"menarik\", \"baik\""
      ],
      "metadata": {
        "id": "BBOof6oO7Gmk"
      },
      "execution_count": null,
      "outputs": []
    },
    {
      "cell_type": "code",
      "source": [
        "wajah, sifat = sifat, wajah"
      ],
      "metadata": {
        "id": "XKsSQ8057NfE"
      },
      "execution_count": null,
      "outputs": []
    },
    {
      "cell_type": "code",
      "source": [
        "wajah"
      ],
      "metadata": {
        "colab": {
          "base_uri": "https://localhost:8080/",
          "height": 35
        },
        "id": "UkWyE81P7NrJ",
        "outputId": "39c1f1e1-65f1-4171-ab73-b5e4fc951f09"
      },
      "execution_count": null,
      "outputs": [
        {
          "output_type": "execute_result",
          "data": {
            "text/plain": [
              "'baik'"
            ],
            "application/vnd.google.colaboratory.intrinsic+json": {
              "type": "string"
            }
          },
          "metadata": {},
          "execution_count": 37
        }
      ]
    },
    {
      "cell_type": "markdown",
      "source": [
        "sort ()\n",
        "\n",
        "* sort() method: sort numbers or letter order\n",
        "* this sort() method can sort a list\n"
      ],
      "metadata": {
        "id": "OoVUkEWQ7X2i"
      }
    },
    {
      "cell_type": "code",
      "source": [
        "nilai = [40,20,30,10,50]"
      ],
      "metadata": {
        "id": "G41PNn4E7mKG"
      },
      "execution_count": null,
      "outputs": []
    },
    {
      "cell_type": "code",
      "source": [
        "print (nilai)"
      ],
      "metadata": {
        "colab": {
          "base_uri": "https://localhost:8080/"
        },
        "id": "gQ1eeAUA7ss-",
        "outputId": "349ad8c7-8069-4e70-cb44-00fe6d4fef10"
      },
      "execution_count": null,
      "outputs": [
        {
          "output_type": "stream",
          "name": "stdout",
          "text": [
            "{40, 10, 50, 20, 30}\n"
          ]
        }
      ]
    },
    {
      "cell_type": "code",
      "source": [
        "nilai.sort()"
      ],
      "metadata": {
        "id": "5BbNexHE7wC9"
      },
      "execution_count": null,
      "outputs": []
    },
    {
      "cell_type": "code",
      "source": [
        "print (nilai)"
      ],
      "metadata": {
        "colab": {
          "base_uri": "https://localhost:8080/"
        },
        "id": "9QD3crIv8D5v",
        "outputId": "596116d8-4d56-49a6-c863-b7017dcb9138"
      },
      "execution_count": null,
      "outputs": [
        {
          "output_type": "stream",
          "name": "stdout",
          "text": [
            "[10, 20, 30, 40, 50]\n"
          ]
        }
      ]
    },
    {
      "cell_type": "code",
      "source": [
        "siswa = [\"calvin\", \"andi\", \"budi\"]"
      ],
      "metadata": {
        "id": "sLXZCbF68H8Z"
      },
      "execution_count": null,
      "outputs": []
    },
    {
      "cell_type": "code",
      "source": [
        "siswa.sort ()"
      ],
      "metadata": {
        "id": "AedFamfP8Oyd"
      },
      "execution_count": null,
      "outputs": []
    },
    {
      "cell_type": "code",
      "source": [
        "print (siswa)"
      ],
      "metadata": {
        "colab": {
          "base_uri": "https://localhost:8080/"
        },
        "id": "mjqLcyiD8REb",
        "outputId": "4a5da9dd-9024-4c3f-d6fd-449bd4a5c0aa"
      },
      "execution_count": null,
      "outputs": [
        {
          "output_type": "stream",
          "name": "stdout",
          "text": [
            "['andi', 'budi', 'calvin']\n"
          ]
        }
      ]
    },
    {
      "cell_type": "markdown",
      "source": [
        "the sort method cannot sort a list that has both strings and numbers in it"
      ],
      "metadata": {
        "id": "r_kOHhMA9MXU"
      }
    },
    {
      "cell_type": "code",
      "source": [
        "free = [12,13,\"calvin\", \"andi\", \"budi\"]"
      ],
      "metadata": {
        "id": "ub9r2Ep5t2xg"
      },
      "execution_count": 40,
      "outputs": []
    },
    {
      "cell_type": "code",
      "source": [
        "free.sort()"
      ],
      "metadata": {
        "colab": {
          "base_uri": "https://localhost:8080/",
          "height": 165
        },
        "id": "ERna64Rst99W",
        "outputId": "d1b02be7-1dda-4f5e-98f0-ec9878c8076b"
      },
      "execution_count": 41,
      "outputs": [
        {
          "output_type": "error",
          "ename": "TypeError",
          "evalue": "ignored",
          "traceback": [
            "\u001b[0;31m---------------------------------------------------------------------------\u001b[0m",
            "\u001b[0;31mTypeError\u001b[0m                                 Traceback (most recent call last)",
            "\u001b[0;32m<ipython-input-41-62626e64e4c5>\u001b[0m in \u001b[0;36m<module>\u001b[0;34m()\u001b[0m\n\u001b[0;32m----> 1\u001b[0;31m \u001b[0mfree\u001b[0m\u001b[0;34m.\u001b[0m\u001b[0msort\u001b[0m\u001b[0;34m(\u001b[0m\u001b[0;34m)\u001b[0m\u001b[0;34m\u001b[0m\u001b[0;34m\u001b[0m\u001b[0m\n\u001b[0m",
            "\u001b[0;31mTypeError\u001b[0m: '<' not supported between instances of 'str' and 'int'"
          ]
        }
      ]
    },
    {
      "cell_type": "markdown",
      "source": [
        "the sort value method uses the order of capital letters (uppercase) to be preceded by lowercase letters (lowercase)."
      ],
      "metadata": {
        "id": "WQ4XABcm9bVo"
      }
    },
    {
      "cell_type": "code",
      "source": [
        "nama = [\"Budi\", \"calvin\", \"andi\"]"
      ],
      "metadata": {
        "id": "DxBu-G1W9r_e"
      },
      "execution_count": null,
      "outputs": []
    },
    {
      "cell_type": "code",
      "source": [
        "nama.sort()"
      ],
      "metadata": {
        "id": "p1lqxZ1K9xZ0"
      },
      "execution_count": null,
      "outputs": []
    },
    {
      "cell_type": "code",
      "source": [
        "print(nama)"
      ],
      "metadata": {
        "colab": {
          "base_uri": "https://localhost:8080/"
        },
        "id": "d4jWpwxy9zqm",
        "outputId": "808c0391-24f2-4d67-df82-4c36cced04ee"
      },
      "execution_count": null,
      "outputs": [
        {
          "output_type": "stream",
          "name": "stdout",
          "text": [
            "['Budi', 'andi', 'calvin']\n"
          ]
        }
      ]
    },
    {
      "cell_type": "markdown",
      "source": [
        "* we can enter the keyword str.lower in the parameter\n",
        "* this will make the sort method assume all objects are lowercase, without changing the original state of the object\n",
        "\n"
      ],
      "metadata": {
        "id": "NPU80acP95Kv"
      }
    },
    {
      "cell_type": "code",
      "source": [
        "nama = [\"Budi\", \"calvin\", \"andi\"]"
      ],
      "metadata": {
        "id": "b1D_PAEs-Rz2"
      },
      "execution_count": null,
      "outputs": []
    },
    {
      "cell_type": "code",
      "source": [
        "nama.sort (key=str.lower)"
      ],
      "metadata": {
        "id": "LGqH0anf-brn"
      },
      "execution_count": null,
      "outputs": []
    },
    {
      "cell_type": "code",
      "source": [
        "print (nama)"
      ],
      "metadata": {
        "colab": {
          "base_uri": "https://localhost:8080/"
        },
        "id": "FXZwocsh-jrz",
        "outputId": "a9d2e81d-af64-48d1-bd25-2b3b8a73927f"
      },
      "execution_count": null,
      "outputs": [
        {
          "output_type": "stream",
          "name": "stdout",
          "text": [
            "['andi', 'Budi', 'calvin']\n"
          ]
        }
      ]
    }
  ]
}